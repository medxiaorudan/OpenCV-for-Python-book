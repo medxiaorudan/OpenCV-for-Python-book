{
 "cells": [
  {
   "cell_type": "code",
   "execution_count": 1,
   "metadata": {},
   "outputs": [
    {
     "name": "stdout",
     "output_type": "stream",
     "text": [
      "img.shape= (2, 4, 3)\n",
      "img=\n",
      " [[[1 1 1]\n",
      "  [1 1 1]\n",
      "  [1 1 1]\n",
      "  [1 1 1]]\n",
      "\n",
      " [[1 1 1]\n",
      "  [1 1 1]\n",
      "  [1 1 1]\n",
      "  [1 1 1]]]\n",
      "rst.shape= (4, 2, 3)\n",
      "rst=\n",
      " [[[1 1 1]\n",
      "  [1 1 1]]\n",
      "\n",
      " [[1 1 1]\n",
      "  [1 1 1]]\n",
      "\n",
      " [[1 1 1]\n",
      "  [1 1 1]]\n",
      "\n",
      " [[1 1 1]\n",
      "  [1 1 1]]]\n"
     ]
    }
   ],
   "source": [
    "#5.1 缩放\n",
    "#cv2.resize的行列属性与shape相反 \n",
    "import cv2\n",
    "import numpy as np\n",
    "img=np.ones([2,4,3],dtype=np.uint8)\n",
    "size=img.shape[:2]\n",
    "rst=cv2.resize(img,size)\n",
    "print(\"img.shape=\",img.shape)\n",
    "print(\"img=\\n\",img)\n",
    "print(\"rst.shape=\",rst.shape)\n",
    "print(\"rst=\\n\",rst)"
   ]
  },
  {
   "cell_type": "code",
   "execution_count": 2,
   "metadata": {},
   "outputs": [
    {
     "name": "stdout",
     "output_type": "stream",
     "text": [
      "img.shape= (300, 300, 3)\n",
      "rst.shape= (150, 270, 3)\n"
     ]
    }
   ],
   "source": [
    "#完成一个简单的图形缩放\n",
    "import cv2\n",
    "import numpy as np\n",
    "img=cv2.imread(\"lena.png\",-1)\n",
    "rows,cols=img.shape[:2]\n",
    "size=(int(cols*0.9),int(rows*0.5))\n",
    "rst=cv2.resize(img,size)\n",
    "print(\"img.shape=\",img.shape)\n",
    "print(\"rst.shape=\",rst.shape)"
   ]
  },
  {
   "cell_type": "code",
   "execution_count": 3,
   "metadata": {},
   "outputs": [
    {
     "name": "stdout",
     "output_type": "stream",
     "text": [
      "img.shape= (300, 300, 3)\n",
      "rst.shape= (150, 600, 3)\n"
     ]
    }
   ],
   "source": [
    "#根据函数cv2.resize()的fx参数、fy参数完成图形缩放\n",
    "import cv2\n",
    "img=cv2.imread(\"lena.png\",-1)\n",
    "rst=cv2.resize(img,None,fx=2,fy=0.5)\n",
    "print(\"img.shape=\",img.shape)\n",
    "print(\"rst.shape=\",rst.shape)"
   ]
  },
  {
   "cell_type": "code",
   "execution_count": 4,
   "metadata": {},
   "outputs": [],
   "source": [
    "#5.2 翻转\n",
    "import cv2\n",
    "img=cv2.imread(\"lena.png\",-1)\n",
    "x=cv2.flip(img,0)\n",
    "y=cv2.flip(img,1)\n",
    "xy=cv2.flip(img,-1)\n",
    "cv2.imwrite(\"lenax.png\",x)\n",
    "cv2.imwrite(\"lenay.png\",y)\n",
    "cv2.imshow(\"img\",img)\n",
    "cv2.imshow(\"x\",x)\n",
    "cv2.imshow(\"y\",y)\n",
    "cv2.imshow(\"xy\",xy)\n",
    "cv2.waitKey()\n",
    "cv2.destroyAllWindows()"
   ]
  },
  {
   "cell_type": "code",
   "execution_count": 5,
   "metadata": {},
   "outputs": [],
   "source": [
    "#5.3 仿射\n",
    "#5.3.1 平移\n",
    "#平移转换矩阵M=np.float32([[1,0,x],[0,1,y]])\n",
    "import cv2\n",
    "import numpy as np\n",
    "img=cv2.imread(\"lena.png\",-1)\n",
    "height,width=img.shape[:2]\n",
    "x=50\n",
    "y=100\n",
    "M=np.float32([[1,0,x],[0,1,y]])\n",
    "move=cv2.warpAffine(img,M,(width,height))\n",
    "cv2.imshow(\"original\",img)\n",
    "cv2.imshow(\"move\",move)\n",
    "cv2.waitKey()\n",
    "cv2.destroyAllWindows()"
   ]
  },
  {
   "cell_type": "code",
   "execution_count": 6,
   "metadata": {},
   "outputs": [],
   "source": [
    "#5.3.2 旋转\n",
    "#旋转转换矩阵M=cv2.getRotationMatrix2D(center,angle,scale)\n",
    "import cv2\n",
    "img=cv2.imread(\"lena.png\",-1)\n",
    "height,width=img.shape[:2]\n",
    "M=cv2.getRotationMatrix2D((width/2,height/2),45,0.6)\n",
    "rotate=cv2.warpAffine(img,M,(width,height))\n",
    "cv2.imshow(\"original\",img)\n",
    "cv2.imshow(\"rotate\",rotate)\n",
    "cv2.waitKey()\n",
    "cv2.destroyAllWindows()"
   ]
  },
  {
   "cell_type": "code",
   "execution_count": 7,
   "metadata": {},
   "outputs": [],
   "source": [
    "#5.3.3 更复杂的仿射变换\n",
    "#转换矩阵M=cv2.getAffineTransform(输入图像的三个点坐标，输出图像的三个点坐标)\n",
    "#三个点分别为左上角、右上角、左下角\n",
    "import cv2\n",
    "import numpy as np\n",
    "img=cv2.imread(\"lena.png\",-1)\n",
    "rows,cols,ch=img.shape\n",
    "p1=np.float32([[0,0],[cols-1,0],[0,rows-1]])\n",
    "p2=np.float32([[0,rows*0.33],[cols*0.85,rows*0.25],[cols*0.15,rows*0.7]])\n",
    "M=cv2.getAffineTransform(p1,p2)\n",
    "dst=cv2.warpAffine(img,M,(cols,rows))\n",
    "cv2.imshow(\"original\",img)\n",
    "cv2.imshow(\"dst\",dst)\n",
    "cv2.waitKey()\n",
    "cv2.destroyAllWindows()"
   ]
  },
  {
   "cell_type": "code",
   "execution_count": 8,
   "metadata": {},
   "outputs": [
    {
     "name": "stdout",
     "output_type": "stream",
     "text": [
      "img=\n",
      " [[  7 148  67  11 138]\n",
      " [201 232 211 125 148]\n",
      " [190   2 218 181 223]\n",
      " [ 60 232 125  80  80]]\n",
      "mapx=\n",
      " [[3. 3. 3. 3. 3.]\n",
      " [3. 3. 3. 3. 3.]\n",
      " [3. 3. 3. 3. 3.]\n",
      " [3. 3. 3. 3. 3.]]\n",
      "mapy=\n",
      " [[0. 0. 0. 0. 0.]\n",
      " [0. 0. 0. 0. 0.]\n",
      " [0. 0. 0. 0. 0.]\n",
      " [0. 0. 0. 0. 0.]]\n",
      "rst=\n",
      " [[11 11 11 11 11]\n",
      " [11 11 11 11 11]\n",
      " [11 11 11 11 11]\n",
      " [11 11 11 11 11]]\n"
     ]
    }
   ],
   "source": [
    "#5.5 重映射\n",
    "#5.5.1 映射参数的理解\n",
    "import cv2\n",
    "import numpy as np\n",
    "img=np.random.randint(0,256,[4,5],dtype=np.uint8)\n",
    "rows,cols=img.shape\n",
    "mapx=np.ones(img.shape,np.float32)*3\n",
    "mapy=np.zeros(img.shape,np.float32)\n",
    "rst=cv2.remap(img,mapx,mapy,cv2.INTER_LINEAR)\n",
    "print(\"img=\\n\",img)\n",
    "print(\"mapx=\\n\",mapx)\n",
    "print(\"mapy=\\n\",mapy)\n",
    "print(\"rst=\\n\",rst)"
   ]
  },
  {
   "cell_type": "code",
   "execution_count": 9,
   "metadata": {},
   "outputs": [
    {
     "name": "stdout",
     "output_type": "stream",
     "text": [
      "img=\n",
      " [[250 173 131  48 225]\n",
      " [194 147  12  37  71]\n",
      " [141 131 240 186  47]\n",
      " [244  15 185   7  42]]\n",
      "mapx=\n",
      " [[0. 1. 2. 3. 4.]\n",
      " [0. 1. 2. 3. 4.]\n",
      " [0. 1. 2. 3. 4.]\n",
      " [0. 1. 2. 3. 4.]]\n",
      "mapy=\n",
      " [[0. 0. 0. 0. 0.]\n",
      " [1. 1. 1. 1. 1.]\n",
      " [2. 2. 2. 2. 2.]\n",
      " [3. 3. 3. 3. 3.]]\n",
      "rst=\n",
      " [[250 173 131  48 225]\n",
      " [194 147  12  37  71]\n",
      " [141 131 240 186  47]\n",
      " [244  15 185   7  42]]\n"
     ]
    }
   ],
   "source": [
    "#5.5.2 复制\n",
    "import cv2\n",
    "import numpy as np\n",
    "img=np.random.randint(0,256,size=[4,5],dtype=np.uint8)\n",
    "rows,cols=img.shape\n",
    "mapx=np.zeros(img.shape,np.float32)\n",
    "mapy=np.zeros(img.shape,np.float32)\n",
    "for i in range(rows):\n",
    "    for j in range(cols):\n",
    "        mapx.itemset((i,j),j)\n",
    "        mapy.itemset((i,j),i)\n",
    "rst=cv2.remap(img,mapx,mapy,cv2.INTER_LINEAR)\n",
    "print(\"img=\\n\",img)\n",
    "print(\"mapx=\\n\",mapx)\n",
    "print(\"mapy=\\n\",mapy)\n",
    "print(\"rst=\\n\",rst)"
   ]
  },
  {
   "cell_type": "code",
   "execution_count": 10,
   "metadata": {},
   "outputs": [],
   "source": [
    "#图像复制\n",
    "import cv2\n",
    "import numpy as np\n",
    "img=cv2.imread(\"lena.png\",-1)\n",
    "rows,cols=img.shape[:2]\n",
    "mapx=np.zeros(img.shape[:2],np.float32)\n",
    "mapy=np.zeros(img.shape[:2],np.float32)\n",
    "for i in range(rows):\n",
    "    for j in range(cols):\n",
    "        mapx.itemset((i,j),j)\n",
    "        mapy.itemset((i,j),i)\n",
    "rst=cv2.remap(img,mapx,mapy,cv2.INTER_LINEAR)\n",
    "cv2.imshow(\"original\",img)\n",
    "cv2.imshow(\"remap\",rst)\n",
    "cv2.waitKey()\n",
    "cv2.destroyAllWindows()"
   ]
  },
  {
   "cell_type": "code",
   "execution_count": 11,
   "metadata": {},
   "outputs": [
    {
     "name": "stdout",
     "output_type": "stream",
     "text": [
      "img=\n",
      " [[142  69 232  22 148]\n",
      " [  8  89   6 187 138]\n",
      " [177 124 191   2 185]\n",
      " [ 60 223 100  13 191]]\n",
      "mapx=\n",
      " [[0. 1. 2. 3. 4.]\n",
      " [0. 1. 2. 3. 4.]\n",
      " [0. 1. 2. 3. 4.]\n",
      " [0. 1. 2. 3. 4.]]\n",
      "mapy=\n",
      " [[3. 3. 3. 3. 3.]\n",
      " [2. 2. 2. 2. 2.]\n",
      " [1. 1. 1. 1. 1.]\n",
      " [0. 0. 0. 0. 0.]]\n",
      "rst=\n",
      " [[ 60 223 100  13 191]\n",
      " [177 124 191   2 185]\n",
      " [  8  89   6 187 138]\n",
      " [142  69 232  22 148]]\n"
     ]
    }
   ],
   "source": [
    "#5.5.3 绕X轴翻转\n",
    "#绕X轴翻转时，map2中当前行的行号调整为“总行数-1-当前行号”\n",
    "import cv2\n",
    "import numpy as np\n",
    "img=np.random.randint(0,256,size=[4,5],dtype=np.uint8)\n",
    "rows,cols=img.shape\n",
    "mapx=np.zeros(img.shape,np.float32)\n",
    "mapy=np.zeros(img.shape,np.float32)\n",
    "for i in range(rows):\n",
    "    for j in range(cols):\n",
    "        mapx.itemset((i,j),j)\n",
    "        mapy.itemset((i,j),rows-1-i)\n",
    "rst=cv2.remap(img,mapx,mapy,cv2.INTER_LINEAR)\n",
    "print(\"img=\\n\",img)\n",
    "print(\"mapx=\\n\",mapx)\n",
    "print(\"mapy=\\n\",mapy)\n",
    "print(\"rst=\\n\",rst)"
   ]
  },
  {
   "cell_type": "code",
   "execution_count": 12,
   "metadata": {},
   "outputs": [],
   "source": [
    "#图像绕X轴翻转\n",
    "import cv2\n",
    "import numpy as np\n",
    "img=cv2.imread(\"lena.png\",-1)\n",
    "rows,cols=img.shape[:2]\n",
    "mapx=np.zeros(img.shape[:2],np.float32)\n",
    "mapy=np.zeros(img.shape[:2],np.float32)\n",
    "for i in range(rows):\n",
    "    for j in range(cols):\n",
    "        mapx.itemset((i,j),j)\n",
    "        mapy.itemset((i,j),rows-1-i)\n",
    "rst=cv2.remap(img,mapx,mapy,cv2.INTER_LINEAR)\n",
    "cv2.imshow(\"original\",img)\n",
    "cv2.imshow(\"result\",rst)\n",
    "cv2.waitKey()\n",
    "cv2.destroyAllWindows()"
   ]
  },
  {
   "cell_type": "code",
   "execution_count": 13,
   "metadata": {},
   "outputs": [
    {
     "name": "stdout",
     "output_type": "stream",
     "text": [
      "img=\n",
      " [[  6  71 222 195   0]\n",
      " [ 10 182 186 116  35]\n",
      " [142  86  10  57  99]\n",
      " [148 171  80  27  85]]\n",
      "mapx=\n",
      " [[4. 3. 2. 1. 0.]\n",
      " [4. 3. 2. 1. 0.]\n",
      " [4. 3. 2. 1. 0.]\n",
      " [4. 3. 2. 1. 0.]]\n",
      "mapy=\n",
      " [[0. 0. 0. 0. 0.]\n",
      " [1. 1. 1. 1. 1.]\n",
      " [2. 2. 2. 2. 2.]\n",
      " [3. 3. 3. 3. 3.]]\n",
      "rst=\n",
      " [[  0 195 222  71   6]\n",
      " [ 35 116 186 182  10]\n",
      " [ 99  57  10  86 142]\n",
      " [ 85  27  80 171 148]]\n"
     ]
    }
   ],
   "source": [
    "#5.5.4 绕Y轴翻转\n",
    "#绕Y轴翻转时，map1中当前行的行号调整为“总列数-1-当前列号”\n",
    "import cv2\n",
    "import numpy as np\n",
    "img=np.random.randint(0,256,size=[4,5],dtype=np.uint8)\n",
    "rows,cols=img.shape\n",
    "mapx=np.zeros(img.shape,np.float32)\n",
    "mapy=np.zeros(img.shape,np.float32)\n",
    "for i in range(rows):\n",
    "    for j in range(cols):\n",
    "        mapx.itemset((i,j),cols-1-j)\n",
    "        mapy.itemset((i,j),i)\n",
    "rst=cv2.remap(img,mapx,mapy,cv2.INTER_LINEAR)\n",
    "print(\"img=\\n\",img)\n",
    "print(\"mapx=\\n\",mapx)\n",
    "print(\"mapy=\\n\",mapy)\n",
    "print(\"rst=\\n\",rst)"
   ]
  },
  {
   "cell_type": "code",
   "execution_count": 14,
   "metadata": {},
   "outputs": [],
   "source": [
    "#图像绕Y轴翻转\n",
    "import cv2\n",
    "import numpy as np\n",
    "img=cv2.imread(\"lena.png\",-1)\n",
    "rows,cols=img.shape[:2]\n",
    "mapx=np.zeros(img.shape[:2],np.float32)\n",
    "mapy=np.zeros(img.shape[:2],np.float32)\n",
    "for i in range(rows):\n",
    "    for j in range(cols):\n",
    "        mapx.itemset((i,j),cols-1-j)\n",
    "        mapy.itemset((i,j),i)\n",
    "rst=cv2.remap(img,mapx,mapy,cv2.INTER_LINEAR)\n",
    "cv2.imshow(\"original\",img)\n",
    "cv2.imshow(\"result\",rst)\n",
    "cv2.waitKey()\n",
    "cv2.destroyAllWindows()"
   ]
  },
  {
   "cell_type": "code",
   "execution_count": 15,
   "metadata": {},
   "outputs": [
    {
     "name": "stdout",
     "output_type": "stream",
     "text": [
      "img=\n",
      " [[133  79  90  92  86]\n",
      " [210  67 230 180 181]\n",
      " [225 223 193 233 210]\n",
      " [195 223  14 162 221]]\n",
      "mapx=\n",
      " [[4. 3. 2. 1. 0.]\n",
      " [4. 3. 2. 1. 0.]\n",
      " [4. 3. 2. 1. 0.]\n",
      " [4. 3. 2. 1. 0.]]\n",
      "mapy=\n",
      " [[3. 3. 3. 3. 3.]\n",
      " [2. 2. 2. 2. 2.]\n",
      " [1. 1. 1. 1. 1.]\n",
      " [0. 0. 0. 0. 0.]]\n",
      "rst=\n",
      " [[221 162  14 223 195]\n",
      " [210 233 193 223 225]\n",
      " [181 180 230  67 210]\n",
      " [ 86  92  90  79 133]]\n"
     ]
    }
   ],
   "source": [
    "#5.5.5 绕X轴、Y轴翻转\n",
    "#绕Y轴翻转时，map1中当前行的行号调整为“总列数-1-当前列号”\n",
    "#绕X轴翻转时，map2中当前行的行号调整为“总行数-1-当前行号”\n",
    "import cv2\n",
    "import numpy as np\n",
    "img=np.random.randint(0,256,size=[4,5],dtype=np.uint8)\n",
    "rows,cols=img.shape\n",
    "mapx=np.zeros(img.shape,np.float32)\n",
    "mapy=np.zeros(img.shape,np.float32)\n",
    "for i in range(rows):\n",
    "    for j in range(cols):\n",
    "        mapx.itemset((i,j),cols-1-j)\n",
    "        mapy.itemset((i,j),rows-1-i)\n",
    "rst=cv2.remap(img,mapx,mapy,cv2.INTER_LINEAR)\n",
    "print(\"img=\\n\",img)\n",
    "print(\"mapx=\\n\",mapx)\n",
    "print(\"mapy=\\n\",mapy)\n",
    "print(\"rst=\\n\",rst)"
   ]
  },
  {
   "cell_type": "code",
   "execution_count": 16,
   "metadata": {},
   "outputs": [],
   "source": [
    "#图像绕X轴、Y轴翻转\n",
    "import cv2\n",
    "import numpy as np\n",
    "img=cv2.imread(\"lena.png\",-1)\n",
    "rows,cols=img.shape[:2]\n",
    "mapx=np.zeros(img.shape[:2],np.float32)\n",
    "mapy=np.zeros(img.shape[:2],np.float32)\n",
    "for i in range(rows):\n",
    "    for j in range(cols):\n",
    "        mapx.itemset((i,j),cols-1-j)\n",
    "        mapy.itemset((i,j),rows-1-i)\n",
    "rst=cv2.remap(img,mapx,mapy,cv2.INTER_LINEAR)\n",
    "cv2.imshow(\"original\",img)\n",
    "cv2.imshow(\"result\",rst)\n",
    "cv2.waitKey()\n",
    "cv2.destroyAllWindows()"
   ]
  },
  {
   "cell_type": "code",
   "execution_count": 17,
   "metadata": {},
   "outputs": [
    {
     "name": "stdout",
     "output_type": "stream",
     "text": [
      "img=\n",
      " [[232 135 105 149 130]\n",
      " [123 239 225 254  87]\n",
      " [155   5  66 248 227]\n",
      " [ 83 117  47  60 140]]\n",
      "mapx=\n",
      " [[0. 0. 0. 0. 0.]\n",
      " [1. 1. 1. 1. 1.]\n",
      " [2. 2. 2. 2. 2.]\n",
      " [3. 3. 3. 3. 3.]]\n",
      "mapy=\n",
      " [[0. 1. 2. 3. 4.]\n",
      " [0. 1. 2. 3. 4.]\n",
      " [0. 1. 2. 3. 4.]\n",
      " [0. 1. 2. 3. 4.]]\n",
      "rst=\n",
      " [[232 123 155  83   0]\n",
      " [135 239   5 117   0]\n",
      " [105 225  66  47   0]\n",
      " [149 254 248  60   0]]\n"
     ]
    }
   ],
   "source": [
    "#5.5.6 X轴、Y轴互换\n",
    "import cv2\n",
    "import numpy as np\n",
    "img=np.random.randint(0,256,size=[4,5],dtype=np.uint8)\n",
    "rows,cols=img.shape\n",
    "mapx=np.zeros(img.shape,np.float32)\n",
    "mapy=np.zeros(img.shape,np.float32)\n",
    "for i in range(rows):\n",
    "    for j in range(cols):\n",
    "        mapx.itemset((i,j),i)\n",
    "        mapy.itemset((i,j),j)\n",
    "rst=cv2.remap(img,mapx,mapy,cv2.INTER_LINEAR)\n",
    "print(\"img=\\n\",img)\n",
    "print(\"mapx=\\n\",mapx)\n",
    "print(\"mapy=\\n\",mapy)\n",
    "print(\"rst=\\n\",rst)"
   ]
  },
  {
   "cell_type": "code",
   "execution_count": 18,
   "metadata": {},
   "outputs": [],
   "source": [
    "#图像X轴、Y轴互换\n",
    "import cv2\n",
    "import numpy as np\n",
    "img=cv2.imread(\"lena.png\",-1)\n",
    "rows,cols=img.shape[:2]\n",
    "mapx=np.zeros(img.shape[:2],np.float32)\n",
    "mapy=np.zeros(img.shape[:2],np.float32)\n",
    "for i in range(rows):\n",
    "    for j in range(cols):\n",
    "        mapx.itemset((i,j),i)\n",
    "        mapy.itemset((i,j),j)\n",
    "rst=cv2.remap(img,mapx,mapy,cv2.INTER_LINEAR)\n",
    "cv2.imshow(\"original\",img)\n",
    "cv2.imshow(\"result\",rst)\n",
    "cv2.waitKey()\n",
    "cv2.destroyAllWindows()"
   ]
  },
  {
   "cell_type": "code",
   "execution_count": 19,
   "metadata": {},
   "outputs": [],
   "source": [
    "#5.5.7 图像缩放\n",
    "import cv2\n",
    "import numpy as np\n",
    "img=cv2.imread(\"lena.png\",-1)\n",
    "rows,cols=img.shape[:2]\n",
    "mapx=np.zeros(img.shape[:2],np.float32)\n",
    "mapy=np.zeros(img.shape[:2],np.float32)\n",
    "for i in range(rows):\n",
    "    for j in range(cols):\n",
    "        if 0.25*cols<i<0.75*cols and 0.25*rows<j<0.75*rows:\n",
    "            mapx.itemset((i,j),2*(j-cols*0.25)+0.5)\n",
    "            mapy.itemset((i,j),2*(i-rows*0.25)+0.5)\n",
    "        else:\n",
    "            mapx.itemset((i,j),0)\n",
    "            mapy.itemset((i,j),0)\n",
    "rst=cv2.remap(img,mapx,mapy,cv2.INTER_LINEAR)\n",
    "cv2.imshow(\"original\",img)\n",
    "cv2.imshow(\"result\",rst)\n",
    "cv2.waitKey()\n",
    "cv2.destroyAllWindows()"
   ]
  },
  {
   "cell_type": "code",
   "execution_count": null,
   "metadata": {},
   "outputs": [],
   "source": []
  }
 ],
 "metadata": {
  "kernelspec": {
   "display_name": "Python 3",
   "language": "python",
   "name": "python3"
  },
  "language_info": {
   "codemirror_mode": {
    "name": "ipython",
    "version": 3
   },
   "file_extension": ".py",
   "mimetype": "text/x-python",
   "name": "python",
   "nbconvert_exporter": "python",
   "pygments_lexer": "ipython3",
   "version": "3.7.3"
  }
 },
 "nbformat": 4,
 "nbformat_minor": 2
}
