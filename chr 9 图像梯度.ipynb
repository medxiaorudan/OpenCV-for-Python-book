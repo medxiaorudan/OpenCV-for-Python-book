{
 "cells": [
  {
   "cell_type": "code",
   "execution_count": 1,
   "metadata": {},
   "outputs": [
    {
     "name": "stdout",
     "output_type": "stream",
     "text": [
      "img=\n",
      " [[ -87  110 -169   85 -208]\n",
      " [ -23 -197   -6 -146    1]\n",
      " [ -53   -5  183  196  147]\n",
      " [-168 -214  -88  206  232]]\n",
      "rst=\n",
      " [[ 87 110 169  85 208]\n",
      " [ 23 197   6 146   1]\n",
      " [ 53   5 183 196 147]\n",
      " [168 214  88 206 232]]\n"
     ]
    }
   ],
   "source": [
    "#9.2 Sobel算子\n",
    "#使用cv2.convertScaleAbs()对一个随机数组取绝对值\n",
    "import cv2\n",
    "import numpy as np\n",
    "img=np.random.randint(-256,256,[4,5],np.int16)\n",
    "rst=cv2.convertScaleAbs(img)\n",
    "print(\"img=\\n\",img)\n",
    "print(\"rst=\\n\",rst)"
   ]
  },
  {
   "cell_type": "code",
   "execution_count": 2,
   "metadata": {},
   "outputs": [],
   "source": [
    "#方向\n",
    "#计算X方向梯度：dx=1,dy=0 ,计算Y方向梯度：dx=0,dy=1\n",
    "#计算X方向和Y方向的边缘叠加，需分别计算两个方向的，然后二者相加 cv2.addWeighted()\n",
    "#实例：使用cv2.Sobel()获取图像水平方向的边缘信息\n",
    "import cv2\n",
    "o=cv2.imread(\"lena.png\",0)\n",
    "Sobelx=cv2.Sobel(o,cv2.CV_64F,1,0)\n",
    "Sobelx=cv2.convertScaleAbs(Sobelx)\n",
    "cv2.imshow(\"original\",o)\n",
    "cv2.imshow(\"Sobelx\",Sobelx)\n",
    "cv2.waitKey()\n",
    "cv2.destroyAllWindows()"
   ]
  },
  {
   "cell_type": "code",
   "execution_count": 3,
   "metadata": {},
   "outputs": [],
   "source": [
    "#实例：使用cv2.Sobel()获取图像垂直方向的边缘信息\n",
    "import cv2\n",
    "o=cv2.imread(\"lena.png\",0)\n",
    "Sobely=cv2.Sobel(o,cv2.CV_64F,0,1)\n",
    "Sobely=cv2.convertScaleAbs(Sobely)\n",
    "cv2.imshow(\"original\",o)\n",
    "cv2.imshow(\"Sobely\",Sobely)\n",
    "cv2.waitKey()\n",
    "cv2.destroyAllWindows()"
   ]
  },
  {
   "cell_type": "code",
   "execution_count": 4,
   "metadata": {},
   "outputs": [],
   "source": [
    "#实例：使用cv2.Sobel()获取图像水平和垂直方向的边缘信息\n",
    "import cv2\n",
    "o=cv2.imread(\"lena.png\",0)\n",
    "Sobelx=cv2.Sobel(o,cv2.CV_64F,1,0)\n",
    "Sobelx=cv2.convertScaleAbs(Sobelx)\n",
    "Sobely=cv2.Sobel(o,cv2.CV_64F,0,1)\n",
    "Sobely=cv2.convertScaleAbs(Sobely)\n",
    "Sobelxy=cv2.addWeighted(Sobelx,0.5,Sobely,0.5,0)\n",
    "cv2.imshow(\"original\",o)\n",
    "cv2.imshow(\"Sobelx\",Sobelx)\n",
    "cv2.imshow(\"Sobely\",Sobely)\n",
    "cv2.imshow(\"Sobelxy\",Sobelxy)\n",
    "cv2.waitKey()\n",
    "cv2.destroyAllWindows()"
   ]
  },
  {
   "cell_type": "code",
   "execution_count": 5,
   "metadata": {},
   "outputs": [],
   "source": [
    "#9.3 Scharr算子\n",
    "import cv2\n",
    "o=cv2.imread(\"lena.png\",0)\n",
    "Sobelx=cv2.Sobel(o,cv2.CV_64F,1,0)\n",
    "Sobelx=cv2.convertScaleAbs(Sobelx)\n",
    "Sobely=cv2.Sobel(o,cv2.CV_64F,0,1)\n",
    "Sobely=cv2.convertScaleAbs(Sobely)\n",
    "Sobelxy=cv2.addWeighted(Sobelx,0.5,Sobely,0.5,0)\n",
    "Scharrx=cv2.Scharr(o,cv2.CV_64F,1,0)\n",
    "Scharrx=cv2.convertScaleAbs(Scharrx)\n",
    "Scharry=cv2.Scharr(o,cv2.CV_64F,0,1)\n",
    "Scharry=cv2.convertScaleAbs(Scharry)\n",
    "Scharrxy=cv2.addWeighted(Scharrx,0.5,Scharry,0.5,0)\n",
    "cv2.imshow(\"original\",o)\n",
    "cv2.imshow(\"Sobelx\",Sobelx)\n",
    "cv2.imshow(\"Sobely\",Sobely)\n",
    "cv2.imshow(\"Sobelxy\",Sobelxy)\n",
    "cv2.imshow(\"Scharrx\",Scharrx)\n",
    "cv2.imshow(\"Scharry\",Scharry)\n",
    "cv2.imshow(\"Scharrxy\",Scharrxy)\n",
    "cv2.waitKey()\n",
    "cv2.destroyAllWindows()"
   ]
  },
  {
   "cell_type": "code",
   "execution_count": 6,
   "metadata": {},
   "outputs": [],
   "source": [
    "#9.5 Laplacian算子\n",
    "#不用分别计算X和Y方向上的梯度\n",
    "import cv2\n",
    "o=cv2.imread(\"lena.png\",0)\n",
    "Laplacian=cv2.Laplacian(o,cv2.CV_64F)\n",
    "Laplacian=cv2.convertScaleAbs(Laplacian)\n",
    "cv2.imshow(\"original\",o)\n",
    "cv2.imshow(\"Laplacian\",Laplacian)\n",
    "cv2.waitKey()\n",
    "cv2.destroyAllWindows()"
   ]
  },
  {
   "cell_type": "code",
   "execution_count": null,
   "metadata": {},
   "outputs": [],
   "source": []
  }
 ],
 "metadata": {
  "kernelspec": {
   "display_name": "Python 3",
   "language": "python",
   "name": "python3"
  },
  "language_info": {
   "codemirror_mode": {
    "name": "ipython",
    "version": 3
   },
   "file_extension": ".py",
   "mimetype": "text/x-python",
   "name": "python",
   "nbconvert_exporter": "python",
   "pygments_lexer": "ipython3",
   "version": "3.7.3"
  }
 },
 "nbformat": 4,
 "nbformat_minor": 2
}
