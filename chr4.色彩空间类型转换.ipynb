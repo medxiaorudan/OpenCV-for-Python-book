{
 "cells": [
  {
   "cell_type": "code",
   "execution_count": 1,
   "metadata": {},
   "outputs": [
    {
     "name": "stdout",
     "output_type": "stream",
     "text": [
      "img=\n",
      " [[[136   1 184]\n",
      "  [131 177 131]\n",
      "  [ 65  42 191]\n",
      "  [170  10  90]]\n",
      "\n",
      " [[ 80 190 251]\n",
      "  [187 142 126]\n",
      "  [206  34  56]\n",
      "  [190 209  40]]]\n",
      "rst=\n",
      " [[ 71 158  89  52]\n",
      " [196 142  60 156]]\n",
      "像素点(1,0)直接计算得到的值= 195.69899999999998\n",
      "像素点(1,0)使用公式cv2.cvtColor()转换值= 196\n"
     ]
    }
   ],
   "source": [
    "#4.3.1 通过数组观察转换效果\n",
    "#将RGB转换成灰度图像\n",
    "import cv2\n",
    "import numpy as np\n",
    "img=np.random.randint(0,256,[2,4,3],dtype=np.uint8)\n",
    "rst=cv2.cvtColor(img,cv2.COLOR_BGR2GRAY)\n",
    "print(\"img=\\n\",img)\n",
    "print(\"rst=\\n\",rst)\n",
    "print(\"像素点(1,0)直接计算得到的值=\",img[1,0,0]*0.114+img[1,0,1]*0.587+img[1,0,2]*0.299)\n",
    "print(\"像素点(1,0)使用公式cv2.cvtColor()转换值=\",rst[1,0])"
   ]
  },
  {
   "cell_type": "code",
   "execution_count": 2,
   "metadata": {},
   "outputs": [
    {
     "name": "stdout",
     "output_type": "stream",
     "text": [
      "img=\n",
      " [[153 142 229  86]\n",
      " [ 49 120  94 154]]\n",
      "rst=\n",
      " [[[153 153 153]\n",
      "  [142 142 142]\n",
      "  [229 229 229]\n",
      "  [ 86  86  86]]\n",
      "\n",
      " [[ 49  49  49]\n",
      "  [120 120 120]\n",
      "  [ 94  94  94]\n",
      "  [154 154 154]]]\n"
     ]
    }
   ],
   "source": [
    "import cv2\n",
    "import numpy as np\n",
    "img=np.random.randint(0,256,[2,4],dtype=np.uint8)\n",
    "rst=cv2.cvtColor(img,cv2.COLOR_GRAY2RGB)\n",
    "print(\"img=\\n\",img)\n",
    "print(\"rst=\\n\",rst)"
   ]
  },
  {
   "cell_type": "code",
   "execution_count": 3,
   "metadata": {},
   "outputs": [
    {
     "name": "stdout",
     "output_type": "stream",
     "text": [
      "lena.shape= (300, 300, 3)\n",
      "gray.shape= (300, 300)\n",
      "rgb.shape= (300, 300, 3)\n"
     ]
    }
   ],
   "source": [
    "#4.3.2 图像处理实例\n",
    "import cv2\n",
    "lena=cv2.imread(\"lena.png\",-1)\n",
    "gray=cv2.cvtColor(lena,cv2.COLOR_BGR2GRAY)\n",
    "rgb=cv2.cvtColor(lena,cv2.COLOR_BGR2RGB)\n",
    "#===============打印shape========================###\n",
    "print(\"lena.shape=\",lena.shape)\n",
    "print(\"gray.shape=\",gray.shape)\n",
    "print(\"rgb.shape=\",rgb.shape)\n",
    "#================显示效果========================###\n",
    "cv2.imshow(\"lena\",lena)\n",
    "cv2.imshow(\"gray\",gray)\n",
    "cv2.imshow(\"rgb\",rgb)\n",
    "cv2.waitKey()\n",
    "cv2.destroyAllWindows()"
   ]
  },
  {
   "cell_type": "code",
   "execution_count": 4,
   "metadata": {},
   "outputs": [
    {
     "name": "stdout",
     "output_type": "stream",
     "text": [
      "Blue=\n",
      " [[[255   0   0]]]\n",
      "BlueHSV [[[120 255 255]]]\n",
      "Green=\n",
      " [[[  0 255   0]]]\n",
      "GreenHSV [[[ 60 255 255]]]\n",
      "Red=\n",
      " [[[  0   0 255]]]\n",
      "RedHSV [[[  0 255 255]]]\n"
     ]
    }
   ],
   "source": [
    "#4.4 HSV色彩空间\n",
    "#4.4.2 获取指定颜色\n",
    "import cv2\n",
    "import numpy as np\n",
    "#========测试一下OpenCV中蓝色的HSV模式值========###\n",
    "imgBlue=np.zeros([1,1,3],dtype=np.uint8)\n",
    "imgBlue[0,0,0]=255\n",
    "Blue=imgBlue\n",
    "BlueHSV=cv2.cvtColor(Blue,cv2.COLOR_BGR2HSV)\n",
    "print(\"Blue=\\n\",Blue)\n",
    "print(\"BlueHSV\",BlueHSV)\n",
    "#========测试一下OpenCV中绿色的HSV模式值========###\n",
    "imgGreen=np.zeros([1,1,3],dtype=np.uint8)\n",
    "imgGreen[0,0,1]=255\n",
    "Green=imgGreen\n",
    "GreenHSV=cv2.cvtColor(Green,cv2.COLOR_BGR2HSV)\n",
    "print(\"Green=\\n\",Green)\n",
    "print(\"GreenHSV\",GreenHSV)\n",
    "#========测试一下OpenCV中红色的HSV模式值========###\n",
    "imgRed=np.zeros([1,1,3],dtype=np.uint8)\n",
    "imgRed[0,0,2]=255\n",
    "Red=imgRed\n",
    "RedHSV=cv2.cvtColor(Red,cv2.COLOR_BGR2HSV)\n",
    "print(\"Red=\\n\",Red)\n",
    "print(\"RedHSV\",RedHSV)"
   ]
  },
  {
   "cell_type": "code",
   "execution_count": 5,
   "metadata": {},
   "outputs": [
    {
     "name": "stdout",
     "output_type": "stream",
     "text": [
      "img=\n",
      " [[179  11 147  60 213]\n",
      " [160 111  34  37 184]\n",
      " [221  30 178 236 179]\n",
      " [249 132  92   3 159]\n",
      " [113 151 137 115 159]]\n",
      "mask=\n",
      " [[255   0 255   0   0]\n",
      " [255 255   0   0 255]\n",
      " [  0   0 255   0 255]\n",
      " [  0 255   0   0 255]\n",
      " [255 255 255 255 255]]\n"
     ]
    }
   ],
   "source": [
    "#4.4.3 标记指定颜色\n",
    "#使用函数cv2.inRange()将某个图像内的在[100,200]内的值标注出来\n",
    "import cv2\n",
    "import numpy as np\n",
    "img=np.random.randint(0,256,[5,5],dtype=np.uint8)\n",
    "min=100\n",
    "max=200\n",
    "mask=cv2.inRange(img,min,max)\n",
    "print(\"img=\\n\",img)\n",
    "print(\"mask=\\n\",mask)"
   ]
  },
  {
   "cell_type": "code",
   "execution_count": 6,
   "metadata": {},
   "outputs": [
    {
     "name": "stdout",
     "output_type": "stream",
     "text": [
      "img=\n",
      " [[9 9 9 9 9]\n",
      " [9 9 9 9 9]\n",
      " [9 9 9 9 9]\n",
      " [9 9 9 9 9]\n",
      " [9 9 9 9 9]]\n",
      "mask=\n",
      " [[1 0 0 0 0]\n",
      " [1 0 0 0 0]\n",
      " [1 0 1 1 0]\n",
      " [0 0 1 1 0]\n",
      " [0 0 1 1 0]]\n",
      "roi=\n",
      " [[9 0 0 0 0]\n",
      " [9 0 0 0 0]\n",
      " [9 0 9 9 0]\n",
      " [0 0 9 9 0]\n",
      " [0 0 9 9 0]]\n"
     ]
    }
   ],
   "source": [
    "#通过基于掩码的按位与显示ROI\n",
    "import cv2\n",
    "import numpy as np\n",
    "img=np.ones([5,5],dtype=np.uint8)*9\n",
    "mask=np.zeros([5,5],dtype=np.uint8)\n",
    "mask[0:3,0]=1\n",
    "mask[2:5,2:4]=1\n",
    "roi=cv2.bitwise_and(img,img,mask=mask)\n",
    "print(\"img=\\n\",img)\n",
    "print(\"mask=\\n\",mask)\n",
    "print(\"roi=\\n\",roi)"
   ]
  },
  {
   "cell_type": "code",
   "execution_count": 7,
   "metadata": {},
   "outputs": [],
   "source": [
    "#显示特定颜色值\n",
    "import cv2\n",
    "import numpy as np\n",
    "opencv=cv2.imread(\"opencv.png\",-1)\n",
    "hsv=cv2.cvtColor(opencv,cv2.COLOR_BGR2HSV)\n",
    "cv2.imshow(\"opencv\",opencv)\n",
    "#=============指定蓝色值得范围===============###\n",
    "minBlue=np.array([110,100,100])\n",
    "maxBlue=np.array([130,255,255])\n",
    "#确定蓝色区域\n",
    "mask=cv2.inRange(hsv,minBlue,maxBlue)\n",
    "#通过掩码控制得按位与运算，锁定蓝色区域\n",
    "Blue=cv2.bitwise_and(opencv,opencv,mask=mask)\n",
    "cv2.imshow(\"Blue\",Blue)\n",
    "#=============指定绿色值得范围===============###\n",
    "minGreen=np.array([50,100,100])\n",
    "maxGreen=np.array([70,255,255])\n",
    "#确定绿色区域\n",
    "mask=cv2.inRange(hsv,minGreen,maxGreen)\n",
    "#通过掩码控制得按位与运算，锁定绿色区域\n",
    "Green=cv2.bitwise_and(opencv,opencv,mask=mask)\n",
    "cv2.imshow(\"Green\",Green)\n",
    "#=============指定红色值得范围===============###\n",
    "minRed=np.array([0,50,50])\n",
    "maxRed=np.array([30,255,255])\n",
    "#确定红色区域\n",
    "mask=cv2.inRange(hsv,minRed,maxRed)\n",
    "#通过掩码控制得按位与运算，锁定红色区域\n",
    "Red=cv2.bitwise_and(opencv,opencv,mask=mask)\n",
    "cv2.imshow(\"Red\",Red)\n",
    "cv2.waitKey()\n",
    "cv2.destroyAllWindows()"
   ]
  },
  {
   "cell_type": "code",
   "execution_count": 8,
   "metadata": {},
   "outputs": [],
   "source": [
    "#实现艺术效果\n",
    "import cv2\n",
    "img=cv2.imread(\"lena.png\",-1)\n",
    "hsv=cv2.cvtColor(img,cv2.COLOR_BGR2HSV)\n",
    "h,s,v=cv2.split(hsv)\n",
    "v[:,:]=255\n",
    "newHSV=cv2.merge([h,s,v])\n",
    "art=cv2.cvtColor(newHSV,cv2.COLOR_HSV2BGR)\n",
    "cv2.imshow(\"img\",img)\n",
    "cv2.imshow(\"art\",art)\n",
    "cv2.waitKey()\n",
    "cv2.destroyAllWindows()"
   ]
  },
  {
   "cell_type": "code",
   "execution_count": 9,
   "metadata": {},
   "outputs": [],
   "source": [
    "#4.5 alpha通道\n",
    "import cv2\n",
    "img=cv2.imread(\"lena.png\",-1)\n",
    "bgra=cv2.cvtColor(img,cv2.COLOR_BGR2BGRA)\n",
    "b,g,r,a=cv2.split(bgra)\n",
    "a[:,:]=125\n",
    "bgra125=cv2.merge([b,g,r,a])\n",
    "a[:,:]=0\n",
    "bgra0=cv2.merge([b,g,r,a])\n",
    "cv2.imwrite(\"bgra.png\",bgra)\n",
    "cv2.imwrite(\"bgra125.png\",bgra125)\n",
    "cv2.imwrite(\"bgra0.png\",bgra0)\n",
    "cv2.imshow(\"img\",img)\n",
    "cv2.imshow(\"bgra\",bgra)\n",
    "cv2.imshow(\"bgra125\",bgra125)\n",
    "cv2.imshow(\"bgra0\",bgra0)\n",
    "cv2.waitKey()\n",
    "cv2.destroyAllWindows()"
   ]
  },
  {
   "cell_type": "code",
   "execution_count": null,
   "metadata": {},
   "outputs": [],
   "source": []
  }
 ],
 "metadata": {
  "kernelspec": {
   "display_name": "Python 3",
   "language": "python",
   "name": "python3"
  },
  "language_info": {
   "codemirror_mode": {
    "name": "ipython",
    "version": 3
   },
   "file_extension": ".py",
   "mimetype": "text/x-python",
   "name": "python",
   "nbconvert_exporter": "python",
   "pygments_lexer": "ipython3",
   "version": "3.7.3"
  }
 },
 "nbformat": 4,
 "nbformat_minor": 2
}
