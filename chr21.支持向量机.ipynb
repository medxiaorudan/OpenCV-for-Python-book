{
 "cells": [
  {
   "cell_type": "code",
   "execution_count": 2,
   "metadata": {},
   "outputs": [
    {
     "data": {
      "image/png": "[encoded data removed]",
      "text/plain": [
       "<Figure size 432x288 with 1 Axes>"
      ]
     },
     "metadata": {
      "needs_background": "light"
     },
     "output_type": "display_data"
    },
    {
     "name": "stdout",
     "output_type": "stream",
     "text": [
      "[[98. 90.]\n",
      " [90. 99.]]\n",
      "[[0.]\n",
      " [0.]]\n"
     ]
    }
   ],
   "source": [
    "%matplotlib inline\n",
    "#已知老员工的笔试成绩、面试成绩及对应的等级表现，根据新员工的笔试成绩和面试成绩预测其可能的表现\n",
    "#=============================1. 生成模拟数据===============================###\n",
    "import cv2\n",
    "import numpy as np\n",
    "import matplotlib.pyplot as plt\n",
    "#首先生成20组入职一年后变现为A级的员工入职时笔试和面试成绩，成绩均分布在[95,100)区间的数据对\n",
    "a=np.random.randint(95,100,(20,2)).astype(np.float32)\n",
    "#然后生成20组入职一年后变现为B级的员工入职时笔试和面试成绩，成绩均分布在[90,95)区间的数据对\n",
    "b=np.random.randint(90,95,(20,2)).astype(np.float32)\n",
    "#将两组数据合并，并使用numpy.array对其进行类型转换：\n",
    "data=np.vstack((a,b))\n",
    "data=np.array(data,dtype=\"float32\")\n",
    "#============================2. 构造分组标签================================###\n",
    "#首先对表现为A级的数据构造标签“0”：\n",
    "alable=np.zeros((20,1))\n",
    "#接下来对表现为B级的数据构造标签“1”：\n",
    "blable=np.ones((20,1))\n",
    "#将两组数据合并，并使用numpy.array对其进行类型转换：\n",
    "label=np.vstack((alable,blable))\n",
    "label=np.array(label,dtype=\"int32\")\n",
    "#===========================3. 训练=========================================###\n",
    "svm=cv2.ml.SVM_create()\n",
    "result=svm.train(data,cv2.ml.ROW_SAMPLE,label)\n",
    "#============================4. 预测分类=====================================###\n",
    "#生成测试数据\n",
    "test=np.vstack([[98,90],[90,99]])\n",
    "test=np.array(test,dtype=\"float32\")\n",
    "#然后使用函数svm.predict()对随机成绩分类\n",
    "(p1,p2)=svm.predict(test)\n",
    "#==========================5. 显示分类结果===================================###\n",
    "#可视化\n",
    "plt.scatter(a[:,0],a[:,1],80,\"g\",\"o\")\n",
    "plt.scatter(b[:,0],b[:,1],80,\"b\",\"s\")\n",
    "plt.scatter(test[:,0],test[:,1],80,\"r\",\"*\")\n",
    "plt.show()\n",
    "#打印原始数据test,预测结果\n",
    "print(test)\n",
    "print(p2)"
   ]
  },
  {
   "cell_type": "code",
   "execution_count": null,
   "metadata": {},
   "outputs": [],
   "source": []
  }
 ],
 "metadata": {
  "kernelspec": {
   "display_name": "Python 3",
   "language": "python",
   "name": "python3"
  },
  "language_info": {
   "codemirror_mode": {
    "name": "ipython",
    "version": 3
   },
   "file_extension": ".py",
   "mimetype": "text/x-python",
   "name": "python",
   "nbconvert_exporter": "python",
   "pygments_lexer": "ipython3",
   "version": "3.7.3"
  }
 },
 "nbformat": 4,
 "nbformat_minor": 2
}
