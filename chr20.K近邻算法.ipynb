{
 "cells": [
  {
   "cell_type": "code",
   "execution_count": 2,
   "metadata": {},
   "outputs": [
    {
     "name": "stdout",
     "output_type": "stream",
     "text": [
      "当前随机数可以被判定为类型： [[1.]]\n",
      "距离当前点最近的5个邻居是： [[1. 1. 1. 1. 1.]]\n",
      "5个最近邻居的距离： [[212. 277. 509. 530. 530.]]\n"
     ]
    },
    {
     "data": {
      "image/png": "[encoded data removed]",
      "text/plain": [
       "<Figure size 432x288 with 1 Axes>"
      ]
     },
     "metadata": {
      "needs_background": "light"
     },
     "output_type": "display_data"
    }
   ],
   "source": [
    "%matplotlib inline\n",
    "#20.4 演示OpenCV自带的K近邻算法模块使用方法\n",
    "#使用OpenCV自带的K近邻模块判断生成的随即数对test是属于rand1所在类型0，还是属于rand2所在类型1\n",
    "import cv2\n",
    "import numpy as np\n",
    "import matplotlib.pyplot as plt\n",
    "#创建两组用于训练得数据，每组包含20对随机数（20个随机数据点）\n",
    "rand1=np.random.randint(0,30,(20,2)).astype(np.float32)\n",
    "rand2=np.random.randint(70,100,(20,2)).astype(np.float32)\n",
    "#将rand1和rand2拼接为训练数据\n",
    "trainData=np.vstack((rand1,rand2))\n",
    "#接下来为两组随机数分配标签,共两类：0和1\n",
    "r1Label=np.zeros((20,1)).astype(np.float32)\n",
    "r2Label=np.ones((20,1)).astype(np.float32)\n",
    "tdLabel=np.vstack((r1Label,r2Label))\n",
    "#使用绿色标注类型0\n",
    "g=trainData[tdLabel.ravel()==0]\n",
    "plt.scatter(g[:,0],g[:,1],80,\"g\",\"o\")\n",
    "#使用蓝色标注类型1\n",
    "b=trainData[tdLabel.ravel()==1]\n",
    "plt.scatter(b[:,0],b[:,1],80,\"b\",\"s\")\n",
    "#然后，生成一对值在(0,100)内的随机数对test,为用于测试的随机数\n",
    "test=np.random.randint(0,100,(1,2)).astype(np.float32)\n",
    "plt.scatter(test[:,0],test[:,1],80,\"r\",\"*\")\n",
    "#调用OpenCV内的 K 近邻模块，并进行训练\n",
    "knn=cv2.ml.KNearest_create()\n",
    "knn.train(trainData,cv2.ml.ROW_SAMPLE,tdLabel)\n",
    "#使用 K 邻近算法分类\n",
    "ret,result,neighbours,dist=knn.findNearest(test,5)\n",
    "#显示处理结果\n",
    "print(\"当前随机数可以被判定为类型：\",result)\n",
    "print(\"距离当前点最近的5个邻居是：\",neighbours)\n",
    "print(\"5个最近邻居的距离：\",dist)\n",
    "plt.show()"
   ]
  },
  {
   "cell_type": "code",
   "execution_count": null,
   "metadata": {},
   "outputs": [],
   "source": []
  }
 ],
 "metadata": {
  "kernelspec": {
   "display_name": "Python 3",
   "language": "python",
   "name": "python3"
  },
  "language_info": {
   "codemirror_mode": {
    "name": "ipython",
    "version": 3
   },
   "file_extension": ".py",
   "mimetype": "text/x-python",
   "name": "python",
   "nbconvert_exporter": "python",
   "pygments_lexer": "ipython3",
   "version": "3.7.3"
  }
 },
 "nbformat": 4,
 "nbformat_minor": 2
}
