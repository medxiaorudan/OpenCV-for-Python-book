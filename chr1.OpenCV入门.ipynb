{
 "cells": [
  {
   "cell_type": "code",
   "execution_count": 1,
   "metadata": {},
   "outputs": [
    {
     "name": "stdout",
     "output_type": "stream",
     "text": [
      "[[[ 78 115 195]\n",
      "  [ 76 113 193]\n",
      "  [ 74 112 194]\n",
      "  ...\n",
      "  [ 48  77 146]\n",
      "  [ 48  75 149]\n",
      "  [ 50  77 151]]\n",
      "\n",
      " [[ 78 115 195]\n",
      "  [ 77 114 194]\n",
      "  [ 75 113 195]\n",
      "  ...\n",
      "  [ 52  78 148]\n",
      "  [ 53  78 150]\n",
      "  [ 54  79 151]]\n",
      "\n",
      " [[ 78 115 195]\n",
      "  [ 77 114 194]\n",
      "  [ 76 113 195]\n",
      "  ...\n",
      "  [ 55  81 148]\n",
      "  [ 56  82 149]\n",
      "  [ 57  82 152]]\n",
      "\n",
      " ...\n",
      "\n",
      " [[ 54  88 164]\n",
      "  [ 62  96 172]\n",
      "  [ 72 106 182]\n",
      "  ...\n",
      "  [ 37  38  72]\n",
      "  [ 38  39  73]\n",
      "  [ 39  40  74]]\n",
      "\n",
      " [[ 53  87 163]\n",
      "  [ 62  96 172]\n",
      "  [ 72 106 182]\n",
      "  ...\n",
      "  [ 37  39  70]\n",
      "  [ 40  39  71]\n",
      "  [ 41  40  72]]\n",
      "\n",
      " [[ 53  87 163]\n",
      "  [ 62  96 172]\n",
      "  [ 73 107 183]\n",
      "  ...\n",
      "  [ 37  39  69]\n",
      "  [ 40  39  71]\n",
      "  [ 41  40  72]]]\n"
     ]
    }
   ],
   "source": [
    "#1.2.1 读取图像\n",
    "import cv2\n",
    "lena=cv2.imread(\"lena.png\")\n",
    "print(lena)"
   ]
  },
  {
   "cell_type": "code",
   "execution_count": 1,
   "metadata": {},
   "outputs": [],
   "source": [
    "#1.2.2 显示图像\n",
    "import cv2\n",
    "lena=cv2.imread(\"lena.jpg\",-1)\n",
    "cv2.imshow(\"before\",lena)\n",
    "cv2.waitKey()\n",
    "cv2.destroyWindow(\"before\")"
   ]
  },
  {
   "cell_type": "code",
   "execution_count": 2,
   "metadata": {},
   "outputs": [],
   "source": [
    "#在一个窗口内显示图像，并针对按下的不同键做出不同的反应\n",
    "import cv2\n",
    "lena=cv2.imread(\"lena.jpg\",-1)\n",
    "cv2.imshow(\"demo\",lena)\n",
    "key=cv2.waitKey() \n",
    "if key==ord(\"A\"):\n",
    "    cv2.imshow(\"pressA\", lena)\n",
    "elif key==ord(\"B\"):\n",
    "    cv2.imshow(\"pressB\",lena)\n",
    "cv2.destroyAllWindows()"
   ]
  },
  {
   "cell_type": "code",
   "execution_count": 3,
   "metadata": {},
   "outputs": [
    {
     "name": "stdout",
     "output_type": "stream",
     "text": [
      "触发了按键\n"
     ]
    }
   ],
   "source": [
    "#在一个窗口内显示图像，用函数cv2.waitKey()实现程序暂停，在按下键盘的按键后程序继续运行\n",
    "import cv2\n",
    "lena=cv2.imread(\"lena.jpg\",-1)\n",
    "cv2.imshow(\"demo\",lena)\n",
    "key=cv2.waitKey()\n",
    "if key!=-1:\n",
    "    print(\"触发了按键\")"
   ]
  },
  {
   "cell_type": "code",
   "execution_count": null,
   "metadata": {},
   "outputs": [],
   "source": [
    "#1.2.3 保存图像\n",
    "import cv2\n",
    "lena=cv2.imread(\"lena.jpg\",-1)\n",
    "r=cv2.imwrite(\"lena.bmp\",lena)   "
   ]
  }
 ],
 "metadata": {
  "kernelspec": {
   "display_name": "Python 3",
   "language": "python",
   "name": "python3"
  },
  "language_info": {
   "codemirror_mode": {
    "name": "ipython",
    "version": 3
   },
   "file_extension": ".py",
   "mimetype": "text/x-python",
   "name": "python",
   "nbconvert_exporter": "python",
   "pygments_lexer": "ipython3",
   "version": "3.7.3"
  }
 },
 "nbformat": 4,
 "nbformat_minor": 2
}
