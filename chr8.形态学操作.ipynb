{
 "cells": [
  {
   "cell_type": "code",
   "execution_count": 1,
   "metadata": {},
   "outputs": [],
   "source": [
    "#8.1 腐蚀\n",
    "import cv2\n",
    "import numpy as np\n",
    "o=cv2.imread(\"lena.png\",-1)\n",
    "kernel=np.ones((5,5),np.uint8)\n",
    "r1=cv2.erode(o,kernel)\n",
    "r2=cv2.erode(o,kernel,iterations=5)\n",
    "cv2.imshow(\"original\",o)\n",
    "cv2.imshow(\"result1\",r1)\n",
    "cv2.imshow(\"result2\",r2)\n",
    "cv2.waitKey()\n",
    "cv2.destroyAllWindows()"
   ]
  },
  {
   "cell_type": "code",
   "execution_count": 2,
   "metadata": {},
   "outputs": [],
   "source": [
    "#8.2 膨胀\n",
    "import cv2\n",
    "import numpy as np\n",
    "o=cv2.imread(\"lena.png\",-1)\n",
    "kernel1=np.ones((9,9),np.uint8)\n",
    "kernel2=np.ones((5,5),np.uint8)\n",
    "r1=cv2.dilate(o,kernel1)\n",
    "r2=cv2.dilate(o,kernel2)\n",
    "r3=cv2.dilate(o,kernel2,iterations=9)\n",
    "cv2.imshow(\"original\",o)\n",
    "cv2.imshow(\"result1\",r1)\n",
    "cv2.imshow(\"result2\",r2)\n",
    "cv2.imshow(\"result3\",r3)\n",
    "cv2.waitKey()\n",
    "cv2.destroyAllWindows()"
   ]
  },
  {
   "cell_type": "code",
   "execution_count": 3,
   "metadata": {},
   "outputs": [],
   "source": [
    "#8.4 开运算\n",
    "#开运算先腐蚀再膨胀，可以去噪，cv2.morphologyEx() op=cv.MORPH_OPEN\n",
    "import cv2\n",
    "import numpy as np\n",
    "o=cv2.imread(\"lena.png\",-1)\n",
    "k=np.ones((5,5),np.uint8)\n",
    "r=cv2.morphologyEx(o,cv2.MORPH_OPEN,k)\n",
    "cv2.imshow(\"original\",o)\n",
    "cv2.imshow(\"result1\",r)\n",
    "cv2.waitKey()\n",
    "cv2.destroyAllWindows()"
   ]
  },
  {
   "cell_type": "code",
   "execution_count": 4,
   "metadata": {},
   "outputs": [],
   "source": [
    "#8.5 闭运算\n",
    "#闭运算先膨胀后腐蚀，有助于关闭前景物体内部小孔，cv2.morphologyEx() op=cv.MORPH_CLOSE\n",
    "import cv2\n",
    "import numpy as np\n",
    "o=cv2.imread(\"lena.png\",-1)\n",
    "k=np.ones((5,5),np.uint8)\n",
    "r=cv2.morphologyEx(o,cv2.MORPH_CLOSE,k)\n",
    "cv2.imshow(\"original\",o)\n",
    "cv2.imshow(\"result1\",r)\n",
    "cv2.waitKey()\n",
    "cv2.destroyAllWindows()"
   ]
  },
  {
   "cell_type": "code",
   "execution_count": 5,
   "metadata": {},
   "outputs": [],
   "source": [
    "#8.6 形态学梯度运算\n",
    "#用膨胀图像减去腐蚀图像, cv2.morphologyEx() op=cv.MORPH_GRADIENT\n",
    "import cv2\n",
    "import numpy as np\n",
    "o=cv2.imread(\"lena.png\",-1)\n",
    "k=np.ones((5,5),np.float32)\n",
    "r=cv2.morphologyEx(o,cv2.MORPH_GRADIENT,k)\n",
    "cv2.imshow(\"original\",o)\n",
    "cv2.imshow(\"result1\",r)\n",
    "cv2.waitKey()\n",
    "cv2.destroyAllWindows()"
   ]
  },
  {
   "cell_type": "code",
   "execution_count": 6,
   "metadata": {},
   "outputs": [],
   "source": [
    "#8.7 礼帽运算\n",
    "#原始图像减去开运算，cv2.morphologyEx() op=cv.MORPH_TOPHAT\n",
    "import cv2\n",
    "import numpy as np\n",
    "o=cv2.imread(\"lena.png\",-1)\n",
    "k=np.ones((5,5),np.float32)\n",
    "r=cv2.morphologyEx(o,cv2.MORPH_TOPHAT,k)\n",
    "cv2.imshow(\"original\",o)\n",
    "cv2.imshow(\"result1\",r)\n",
    "cv2.waitKey()\n",
    "cv2.destroyAllWindows()"
   ]
  },
  {
   "cell_type": "code",
   "execution_count": 7,
   "metadata": {},
   "outputs": [],
   "source": [
    "#8.8 黑帽运算\n",
    "#闭运算减去原始图像，可以获取图像内部小孔，cv2.morphologyEx() op=cv.MORPH_BLACKHAT\n",
    "import cv2\n",
    "import numpy as np\n",
    "o=cv2.imread(\"lena.png\",-1)\n",
    "k=np.ones((5,5),np.float32)\n",
    "r=cv2.morphologyEx(o,cv2.MORPH_BLACKHAT,k)\n",
    "cv2.imshow(\"original\",o)\n",
    "cv2.imshow(\"result1\",r)\n",
    "cv2.waitKey()\n",
    "cv2.destroyAllWindows()"
   ]
  },
  {
   "cell_type": "code",
   "execution_count": 8,
   "metadata": {},
   "outputs": [
    {
     "name": "stdout",
     "output_type": "stream",
     "text": [
      "kernel1=\n",
      " [[1 1 1 1 1]\n",
      " [1 1 1 1 1]\n",
      " [1 1 1 1 1]\n",
      " [1 1 1 1 1]\n",
      " [1 1 1 1 1]]\n",
      "kernel2=\n",
      " [[0 0 1 0 0]\n",
      " [0 0 1 0 0]\n",
      " [1 1 1 1 1]\n",
      " [0 0 1 0 0]\n",
      " [0 0 1 0 0]]\n",
      "kernel3=\n",
      " [[0 0 1 0 0]\n",
      " [1 1 1 1 1]\n",
      " [1 1 1 1 1]\n",
      " [1 1 1 1 1]\n",
      " [0 0 1 0 0]]\n"
     ]
    }
   ],
   "source": [
    "# 8.9 核函数\n",
    "import cv2\n",
    "kernel1=cv2.getStructuringElement(cv2.MORPH_RECT,(5,5))\n",
    "kernel2=cv2.getStructuringElement(cv2.MORPH_CROSS,(5,5))\n",
    "kernel3=cv2.getStructuringElement(cv2.MORPH_ELLIPSE,(5,5))\n",
    "print(\"kernel1=\\n\",kernel1)\n",
    "print(\"kernel2=\\n\",kernel2)\n",
    "print(\"kernel3=\\n\",kernel3)\n",
    "#处理图像\n",
    "import cv2\n",
    "o=cv2.imread(\"lena.png\",-1)\n",
    "kernel1=cv2.getStructuringElement(cv2.MORPH_RECT,(15,15))\n",
    "kernel2=cv2.getStructuringElement(cv2.MORPH_CROSS,(15,15))\n",
    "kernel3=cv2.getStructuringElement(cv2.MORPH_ELLIPSE,(15,15))\n",
    "dst1=cv2.dilate(o,kernel1)\n",
    "dst2=cv2.dilate(o,kernel2)\n",
    "dst3=cv2.dilate(o,kernel3)\n",
    "cv2.imshow(\"original\",o)\n",
    "cv2.imshow(\"result1\",dst1)\n",
    "cv2.imshow(\"result2\",dst2)\n",
    "cv2.imshow(\"result3\",dst3)\n",
    "cv2.waitKey()\n",
    "cv2.destroyAllWindows()"
   ]
  },
  {
   "cell_type": "code",
   "execution_count": null,
   "metadata": {},
   "outputs": [],
   "source": []
  }
 ],
 "metadata": {
  "kernelspec": {
   "display_name": "Python 3",
   "language": "python",
   "name": "python3"
  },
  "language_info": {
   "codemirror_mode": {
    "name": "ipython",
    "version": 3
   },
   "file_extension": ".py",
   "mimetype": "text/x-python",
   "name": "python",
   "nbconvert_exporter": "python",
   "pygments_lexer": "ipython3",
   "version": "3.7.3"
  }
 },
 "nbformat": 4,
 "nbformat_minor": 2
}
