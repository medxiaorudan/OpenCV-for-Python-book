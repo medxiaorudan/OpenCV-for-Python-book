{
 "cells": [
  {
   "cell_type": "code",
   "execution_count": 1,
   "metadata": {},
   "outputs": [],
   "source": [
    "#3.1图像加法运算\n",
    "import cv2\n",
    "a=cv2.imread(\"lena.png\",0)\n",
    "b=a\n",
    "result1=a+b\n",
    "result2=cv2.add(a,b)\n",
    "cv2.imshow(\"original\",a)\n",
    "cv2.imshow(\"result1\",result1)\n",
    "cv2.imshow(\"result2\",result2)\n",
    "cv2.waitKey()\n",
    "cv2.destroyAllWindows()"
   ]
  },
  {
   "cell_type": "code",
   "execution_count": 2,
   "metadata": {},
   "outputs": [
    {
     "name": "stdout",
     "output_type": "stream",
     "text": [
      "[[113 113 113 113]\n",
      " [113 113 113 113]\n",
      " [113 113 113 113]]\n"
     ]
    }
   ],
   "source": [
    "#3.2图像加权和\n",
    "import cv2\n",
    "import numpy as np\n",
    "img1=np.ones((3,4),dtype=np.uint8)*100##生成一个3*4大小的、元素值都是100的二维数组\n",
    "img2=np.ones((3,4),dtype=np.uint8)*10\n",
    "gamma=3\n",
    "img3=cv2.addWeighted(img1,0.6,img2,5,gamma)  ###计算img1*0.6+img2*5+3\n",
    "print(img3)"
   ]
  },
  {
   "cell_type": "code",
   "execution_count": 3,
   "metadata": {},
   "outputs": [
    {
     "name": "stdout",
     "output_type": "stream",
     "text": [
      "[[88 86 24 90]\n",
      " [93 56 34 57]\n",
      " [17 35 78 21]]\n",
      "[[151 181 172 175]\n",
      " [139 194 177  90]\n",
      " [145 155  86 165]]\n",
      "[[255 255 255 255]\n",
      " [255 255 255 255]\n",
      " [255 255 255 255]]\n"
     ]
    }
   ],
   "source": [
    "import cv2\n",
    "import numpy as np\n",
    "img1=np.random.randint(10,100,size=[3,4],dtype=np.uint8)\n",
    "img2=np.random.randint(20,200,size=[3,4],dtype=np.uint8)\n",
    "gamma=3\n",
    "img3=cv2.addWeighted(img1,0.6,img2,5,gamma)  ###计算img1*0.6+img2*5+3\n",
    "print(img1)\n",
    "print(img2)\n",
    "print(img3)"
   ]
  },
  {
   "cell_type": "code",
   "execution_count": 4,
   "metadata": {},
   "outputs": [
    {
     "name": "stdout",
     "output_type": "stream",
     "text": [
      "a=\n",
      " [[ 39 218 103  51 248]\n",
      " [ 33 222  76  40 141]\n",
      " [234 112 125 103 109]\n",
      " [ 19  44 204  32 188]\n",
      " [221 180 113   1 171]]\n",
      "b=\n",
      " [[255 255 255   0   0]\n",
      " [255 255 255   0   0]\n",
      " [255 255 255   0   0]\n",
      " [  0   0   0   0   0]\n",
      " [  0   0   0   0 255]]\n",
      "c=\n",
      " [[ 39 218 103   0   0]\n",
      " [ 33 222  76   0   0]\n",
      " [234 112 125   0   0]\n",
      " [  0   0   0   0   0]\n",
      " [  0   0   0   0 171]]\n"
     ]
    }
   ],
   "source": [
    "#3.3 按位逻辑运算\n",
    "#3.3.1 按位与运算\n",
    "import cv2\n",
    "import numpy as np\n",
    "a=np.random.randint(0,255,[5,5],dtype=np.uint8)\n",
    "b=np.zeros((5,5),dtype=np.uint8)\n",
    "b[0:3,0:3]=255\n",
    "b[4,4]=255\n",
    "c=cv2.bitwise_and(a,b)\n",
    "print(\"a=\\n\",a)\n",
    "print(\"b=\\n\",b)\n",
    "print(\"c=\\n\",c)"
   ]
  },
  {
   "cell_type": "code",
   "execution_count": 5,
   "metadata": {},
   "outputs": [],
   "source": [
    "import cv2\n",
    "import numpy as np\n",
    "a=cv2.imread(\"lena.png\",0)\n",
    "b=np.zeros(a.shape,dtype=np.uint8)\n",
    "b[50:245,45:245]=255\n",
    "b[50:290,45:130]=255\n",
    "c=cv2.bitwise_and(a,b)\n",
    "cv2.imshow(\"a\",a)\n",
    "cv2.imshow(\"b\",b)\n",
    "cv2.imshow(\"c\",c)\n",
    "cv2.waitKey()\n",
    "cv2.destroyAllWindows()"
   ]
  },
  {
   "cell_type": "code",
   "execution_count": 6,
   "metadata": {},
   "outputs": [
    {
     "name": "stdout",
     "output_type": "stream",
     "text": [
      "img1=\n",
      " [[3 3 3 3]\n",
      " [3 3 3 3]\n",
      " [3 3 3 3]\n",
      " [3 3 3 3]]\n",
      "img2=\n",
      " [[5 5 5 5]\n",
      " [5 5 5 5]\n",
      " [5 5 5 5]\n",
      " [5 5 5 5]]\n",
      "mask=\n",
      " [[0 0 0 0]\n",
      " [0 0 0 0]\n",
      " [0 0 1 1]\n",
      " [0 0 1 1]]\n",
      "初始值img3=\n",
      " [[66 66 66 66]\n",
      " [66 66 66 66]\n",
      " [66 66 66 66]\n",
      " [66 66 66 66]]\n",
      "求和后img3=\n",
      " [[0 0 0 0]\n",
      " [0 0 0 0]\n",
      " [0 0 8 8]\n",
      " [0 0 8 8]]\n"
     ]
    }
   ],
   "source": [
    "#3.4 掩模\n",
    "import cv2\n",
    "import numpy as np\n",
    "img1=np.ones((4,4),dtype=np.uint8)*3\n",
    "img2=np.ones((4,4),dtype=np.uint8)*5\n",
    "img3=np.ones((4,4),dtype=np.uint8)*66\n",
    "mask=np.ones((4,4),dtype=np.uint8)\n",
    "mask[:,0:2]=0\n",
    "mask[0:2,:]=0\n",
    "print(\"img1=\\n\",img1)\n",
    "print(\"img2=\\n\",img2)\n",
    "print(\"mask=\\n\",mask)\n",
    "print(\"初始值img3=\\n\",img3)\n",
    "img3=cv2.add(img1,img2,mask=mask)\n",
    "print(\"求和后img3=\\n\",img3)"
   ]
  },
  {
   "cell_type": "code",
   "execution_count": 7,
   "metadata": {},
   "outputs": [],
   "source": [
    "#3.6 位平面分解\n",
    "import cv2\n",
    "import numpy as np\n",
    "lena=cv2.imread(\"lena.png\",0)\n",
    "cv2.imshow(\"lena\",lena)\n",
    "r,c=lena.shape\n",
    "x=np.zeros((r,c,8),dtype=np.uint8)\n",
    "for i in range(0,8):\n",
    "    x[:,:,i]=2**i\n",
    "r=np.zeros((r,c,8),dtype=np.uint8)\n",
    "for i in range(0,8):\n",
    "    r[:,:,i]=cv2.bitwise_and(lena,x[:,:,i])\n",
    "    mask=r[:,:,i]>0\n",
    "    r[mask]=255\n",
    "    cv2.imshow(str(i),r[:,:,i])\n",
    "cv2.waitKey()\n",
    "cv2.destroyAllWindows()"
   ]
  },
  {
   "cell_type": "code",
   "execution_count": 8,
   "metadata": {},
   "outputs": [],
   "source": [
    "#3.7 图像加密和解密\n",
    "import cv2\n",
    "import numpy as np\n",
    "lena=cv2.imread(\"lena.png\",0)\n",
    "key=np.random.randint(0,256,lena.shape,dtype=np.uint8)\n",
    "encryption=cv2.bitwise_xor(lena,key)\n",
    "decryption=cv2.bitwise_xor(encryption,key)\n",
    "cv2.imshow(\"lena\",lena)\n",
    "cv2.imshow(\"key\",key)\n",
    "cv2.imshow(\"encryption\",encryption)\n",
    "cv2.imshow(\"decryption\",decryption)\n",
    "cv2.waitKey()\n",
    "cv2.destroyAllWindows()"
   ]
  },
  {
   "cell_type": "code",
   "execution_count": null,
   "metadata": {},
   "outputs": [],
   "source": []
  }
 ],
 "metadata": {
  "kernelspec": {
   "display_name": "Python 3",
   "language": "python",
   "name": "python3"
  },
  "language_info": {
   "codemirror_mode": {
    "name": "ipython",
    "version": 3
   },
   "file_extension": ".py",
   "mimetype": "text/x-python",
   "name": "python",
   "nbconvert_exporter": "python",
   "pygments_lexer": "ipython3",
   "version": "3.7.3"
  }
 },
 "nbformat": 4,
 "nbformat_minor": 2
}
