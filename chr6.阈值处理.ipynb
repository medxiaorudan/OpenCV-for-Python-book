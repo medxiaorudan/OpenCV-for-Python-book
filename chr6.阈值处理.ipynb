{
 "cells": [
  {
   "cell_type": "code",
   "execution_count": 1,
   "metadata": {},
   "outputs": [
    {
     "name": "stdout",
     "output_type": "stream",
     "text": [
      "img=\n",
      " [[131  26  99 215 106]\n",
      " [217  32 194  41 167]\n",
      " [241 210  27 176 114]\n",
      " [243 246 126 146 222]]\n",
      "t= 127.0\n",
      "rst=\n",
      " [[255   0   0 255   0]\n",
      " [255   0 255   0 255]\n",
      " [255 255   0 255   0]\n",
      " [255 255   0 255 255]]\n"
     ]
    }
   ],
   "source": [
    "#6.1 threshold函数\n",
    "#6.1.1 二值化阈值处理(cv2.THRESH_BINARY)\n",
    "import cv2\n",
    "import numpy as np\n",
    "img=np.random.randint(0,256,[4,5],dtype=np.uint8)\n",
    "t,rst=cv2.threshold(img,127,256,cv2.THRESH_BINARY)\n",
    "print(\"img=\\n\",img)\n",
    "print(\"t=\",t)\n",
    "print(\"rst=\\n\",rst)"
   ]
  },
  {
   "cell_type": "code",
   "execution_count": 2,
   "metadata": {},
   "outputs": [],
   "source": [
    "#处理图像\n",
    "import cv2\n",
    "import numpy as np\n",
    "img=cv2.imread(\"lena.png\",0)\n",
    "t,rst=cv2.threshold(img,100,256,cv2.THRESH_BINARY)\n",
    "cv2.imshow(\"img\",img)\n",
    "cv2.imshow(\"rst\",rst)\n",
    "cv2.waitKey()\n",
    "cv2.destroyAllWindows()"
   ]
  },
  {
   "cell_type": "code",
   "execution_count": 3,
   "metadata": {},
   "outputs": [],
   "source": [
    "#6.1.2 反二值化阈值处理(cv2.THRESH_BINARY_INV)\n",
    "import cv2\n",
    "import numpy as np\n",
    "img=cv2.imread(\"lena.png\",0)\n",
    "t,rst=cv2.threshold(img,100,256,cv2.THRESH_BINARY_INV)\n",
    "cv2.imshow(\"img\",img)\n",
    "cv2.imshow(\"rst\",rst)\n",
    "cv2.waitKey()\n",
    "cv2.destroyAllWindows()"
   ]
  },
  {
   "cell_type": "code",
   "execution_count": 4,
   "metadata": {},
   "outputs": [],
   "source": [
    "#6.1.3 截断阈值化处理(cv2.THRESH_TRUNC)\n",
    "import cv2\n",
    "import numpy as np\n",
    "img=cv2.imread(\"lena.png\",0)\n",
    "r,rst=cv2.threshold(img,100,256,cv2.THRESH_TRUNC)\n",
    "cv2.imshow(\"img\",img)\n",
    "cv2.imshow(\"rst\",rst)\n",
    "cv2.waitKey()\n",
    "cv2.destroyAllWindows()"
   ]
  },
  {
   "cell_type": "code",
   "execution_count": 5,
   "metadata": {},
   "outputs": [],
   "source": [
    "#6.1.4 超阈值零处理(cv2.THRESH_TOZERO_INV)\n",
    "import cv2\n",
    "import numpy as np\n",
    "img=cv2.imread(\"lena.png\",0)\n",
    "t,rst=cv2.threshold(img,100,256,cv2.THRESH_TOZERO_INV)\n",
    "cv2.imshow(\"img\",img)\n",
    "cv2.imshow(\"rst\",rst)\n",
    "cv2.waitKey()\n",
    "cv2.destroyAllWindows()"
   ]
  },
  {
   "cell_type": "code",
   "execution_count": 6,
   "metadata": {},
   "outputs": [],
   "source": [
    "#6.1.4 低阈值零处理(cv2.THRESH_TOZERO)\n",
    "import cv2\n",
    "import numpy as np\n",
    "img=cv2.imread(\"lena.png\",0)\n",
    "t,rst=cv2.threshold(img,100,256,cv2.THRESH_TOZERO)\n",
    "cv2.imshow(\"img\",img)\n",
    "cv2.imshow(\"rst\",rst)\n",
    "cv2.waitKey()\n",
    "cv2.destroyAllWindows()"
   ]
  },
  {
   "cell_type": "code",
   "execution_count": 7,
   "metadata": {},
   "outputs": [],
   "source": [
    "#6.2 自适应阈值处理\n",
    "#cv2.adaptiveThreshold()\n",
    "#分别使用cv2.Threshold()和 cv2.adaptiveThreshold()处理图像\n",
    "import cv2\n",
    "import numpy as np\n",
    "img=cv2.imread(\"lena.png\",0)\n",
    "t,thd=cv2.threshold(img,100,255,cv2.THRESH_BINARY)\n",
    "athdMEAN=cv2.adaptiveThreshold(img,255,cv2.ADAPTIVE_THRESH_MEAN_C,cv2.THRESH_BINARY,5,3)\n",
    "athdGAUS=cv2.adaptiveThreshold(img,255,cv2.ADAPTIVE_THRESH_GAUSSIAN_C,cv2.THRESH_BINARY,5,3)\n",
    "cv2.imshow(\"img\",img)\n",
    "cv2.imshow(\"thd\",thd)\n",
    "cv2.imshow(\"athdMEAN\",athdMEAN)\n",
    "cv2.imshow(\"athdGAUS\",athdGAUS)\n",
    "cv2.waitKey()\n",
    "cv2.destroyAllWindows()"
   ]
  },
  {
   "cell_type": "code",
   "execution_count": 8,
   "metadata": {},
   "outputs": [
    {
     "name": "stdout",
     "output_type": "stream",
     "text": [
      "t1= 100.0\n",
      "t2= 93.0\n"
     ]
    }
   ],
   "source": [
    "#Otsu处理\n",
    "import cv2\n",
    "import numpy as np\n",
    "img=cv2.imread(\"lena.png\",0)\n",
    "t1,thd=cv2.threshold(img,100,255,cv2.THRESH_BINARY)\n",
    "t2,otsu=cv2.threshold(img,0,255,cv2.THRESH_BINARY+cv2.THRESH_OTSU)\n",
    "print(\"t1=\",t1)\n",
    "print(\"t2=\",t2)\n",
    "cv2.imshow(\"thd\",thd)\n",
    "cv2.imshow(\"otsu\",otsu)\n",
    "cv2.waitKey()\n",
    "cv2.destroyAllWindows()"
   ]
  },
  {
   "cell_type": "code",
   "execution_count": null,
   "metadata": {},
   "outputs": [],
   "source": []
  }
 ],
 "metadata": {
  "kernelspec": {
   "display_name": "Python 3",
   "language": "python",
   "name": "python3"
  },
  "language_info": {
   "codemirror_mode": {
    "name": "ipython",
    "version": 3
   },
   "file_extension": ".py",
   "mimetype": "text/x-python",
   "name": "python",
   "nbconvert_exporter": "python",
   "pygments_lexer": "ipython3",
   "version": "3.7.3"
  }
 },
 "nbformat": 4,
 "nbformat_minor": 2
}
