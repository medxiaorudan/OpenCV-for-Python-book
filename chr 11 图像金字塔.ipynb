{
 "cells": [
  {
   "cell_type": "code",
   "execution_count": 1,
   "metadata": {},
   "outputs": [
    {
     "name": "stdout",
     "output_type": "stream",
     "text": [
      "o.shape= (300, 300, 3)\n",
      "r1.shape= (150, 150, 3)\n",
      "r2.shape= (75, 75, 3)\n",
      "r3.shape= (38, 38, 3)\n"
     ]
    }
   ],
   "source": [
    "#11.2 pyrDown()下采样函数\n",
    "import cv2\n",
    "o=cv2.imread(\"lena.png\",-1)\n",
    "r1=cv2.pyrDown(o)\n",
    "r2=cv2.pyrDown(r1)\n",
    "r3=cv2.pyrDown(r2)\n",
    "print(\"o.shape=\",o.shape)\n",
    "print(\"r1.shape=\",r1.shape)\n",
    "print(\"r2.shape=\",r2.shape)\n",
    "print(\"r3.shape=\",r3.shape)\n",
    "cv2.imshow(\"original\",o)\n",
    "cv2.imshow(\"result1\",r1)\n",
    "cv2.imshow(\"result2\",r2)\n",
    "cv2.imshow(\"result3\",r3)\n",
    "cv2.waitKey()\n",
    "cv2.destroyAllWindows()"
   ]
  },
  {
   "cell_type": "code",
   "execution_count": 2,
   "metadata": {},
   "outputs": [
    {
     "name": "stdout",
     "output_type": "stream",
     "text": [
      "o.shape= (300, 300, 3)\n",
      "r1.shape= (600, 600, 3)\n",
      "r2.shape= (1200, 1200, 3)\n"
     ]
    }
   ],
   "source": [
    "#11.3 pyrUp()上采样函数\n",
    "import cv2\n",
    "o=cv2.imread(\"lena.png\",-1)\n",
    "r1=cv2.pyrUp(o)\n",
    "r2=cv2.pyrUp(r1)\n",
    "print(\"o.shape=\",o.shape)\n",
    "print(\"r1.shape=\",r1.shape)\n",
    "print(\"r2.shape=\",r2.shape)\n",
    "cv2.imshow(\"original\",o)\n",
    "cv2.imshow(\"result1\",r1)\n",
    "cv2.imshow(\"result2\",r2)\n",
    "cv2.waitKey()\n",
    "cv2.destroyAllWindows()"
   ]
  },
  {
   "cell_type": "code",
   "execution_count": 3,
   "metadata": {},
   "outputs": [
    {
     "name": "stdout",
     "output_type": "stream",
     "text": [
      "G0.shape= (512, 512, 3)\n",
      "RG0.shape= (512, 512, 3)\n",
      "原始图像G0与回复图像RG0差值的绝对值和： 0\n",
      "G1.shape= (256, 256, 3)\n",
      "RG1.shape= (256, 256, 3)\n",
      "原始图像G1与回复图像RG1差值的绝对值和： 0\n",
      "G2.shape= (128, 128, 3)\n",
      "RG2.shape= (128, 128, 3)\n",
      "原始图像G2与回复图像RG2差值的绝对值和： 0\n"
     ]
    }
   ],
   "source": [
    "#11.5 拉普拉斯金字塔\n",
    "import cv2\n",
    "import numpy as np\n",
    "o=cv2.imread(\"lena512color.tif\",-1)\n",
    "#=====================生成高斯金字塔================================###\n",
    "G0=o\n",
    "G1=cv2.pyrDown(G0)\n",
    "G2=cv2.pyrDown(G1)\n",
    "G3=cv2.pyrDown(G2)\n",
    "#===================生成拉普拉斯金字塔==============================###\n",
    "L0=G0-cv2.pyrUp(G1)  #拉普拉斯金字塔第0层\n",
    "L1=G1-cv2.pyrUp(G2)  #拉普拉斯金字塔第1层\n",
    "L2=G2-cv2.pyrUp(G3)  #拉普拉斯金字塔第2层\n",
    "#=========================复原G0====================================###\n",
    "RG0=L0+cv2.pyrUp(G1) #通过拉普拉斯金字塔第复原的原始图像G0\n",
    "print(\"G0.shape=\",G0.shape)\n",
    "print(\"RG0.shape=\",RG0.shape)\n",
    "result1=RG0-G0\n",
    "result1=abs(result1)\n",
    "print(\"原始图像G0与回复图像RG0差值的绝对值和：\",np.sum(result1))\n",
    "#=========================复原G1====================================###\n",
    "RG1=L1+cv2.pyrUp(G2) #通过拉普拉斯金字塔第复原的原始图像G1\n",
    "print(\"G1.shape=\",G1.shape)\n",
    "print(\"RG1.shape=\",RG1.shape)\n",
    "result2=RG1-G1\n",
    "result2=abs(result2)\n",
    "print(\"原始图像G1与回复图像RG1差值的绝对值和：\",np.sum(result2))\n",
    "#=========================复原G2====================================###\n",
    "RG2=L2+cv2.pyrUp(G3) #通过拉普拉斯金字塔第复原的原始图像G2\n",
    "print(\"G2.shape=\",G2.shape)\n",
    "print(\"RG2.shape=\",RG2.shape)\n",
    "result3=RG2-G2\n",
    "result3=abs(result3)\n",
    "print(\"原始图像G2与回复图像RG2差值的绝对值和：\",np.sum(result3))"
   ]
  },
  {
   "cell_type": "code",
   "execution_count": null,
   "metadata": {},
   "outputs": [],
   "source": []
  }
 ],
 "metadata": {
  "kernelspec": {
   "display_name": "Python 3",
   "language": "python",
   "name": "python3"
  },
  "language_info": {
   "codemirror_mode": {
    "name": "ipython",
    "version": 3
   },
   "file_extension": ".py",
   "mimetype": "text/x-python",
   "name": "python",
   "nbconvert_exporter": "python",
   "pygments_lexer": "ipython3",
   "version": "3.7.3"
  }
 },
 "nbformat": 4,
 "nbformat_minor": 2
}
