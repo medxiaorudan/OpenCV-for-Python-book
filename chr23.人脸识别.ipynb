{
 "cells": [
  {
   "cell_type": "code",
   "execution_count": 1,
   "metadata": {},
   "outputs": [
    {
     "name": "stdout",
     "output_type": "stream",
     "text": [
      "<CascadeClassifier 0000028B69731550>\n",
      "[[225  97  46  46]\n",
      " [146 104  47  47]\n",
      " [ 91 111  52  52]\n",
      " [300 118  48  48]]\n",
      "发现4个人脸！\n"
     ]
    }
   ],
   "source": [
    "#23.1 Haar级联分类器\n",
    "#使用函数cv2.CascadeClassifier.detectMultiScale()检测一幅图像内的人脸\n",
    "import cv2\n",
    "image=cv2.imread(\"face_recognize.jpg\",-1)\n",
    "#获取XML文件，加载人脸检测器\n",
    "faceCascade=cv2.CascadeClassifier(\"haarcascade_frontalface_default.xml\")\n",
    "print(faceCascade)\n",
    "#色彩转换，转换成灰度图像\n",
    "gray=cv2.cvtColor(image,cv2.COLOR_BGR2GRAY)\n",
    "#调用函数detectMultiScale\n",
    "faces=faceCascade.detectMultiScale(gray,scaleFactor=1.15,minNeighbors=5,minSize=(5,5))\n",
    "print(faces)\n",
    "#打印输出的测试结果\n",
    "print(\"发现{0}个人脸！\".format(len(faces)))\n",
    "#逐个标注人脸\n",
    "for(x,y,w,h) in faces:\n",
    "    #cv2.rectangle(image,(x,y),(x+w,y+w),(0,255,0),2)   #矩形标注\n",
    "    cv2.circle(image,(int((x+x+w)/2),int((y+y+h)/2)),int(w/2),(0,255,0),2)\n",
    "#显示结果\n",
    "cv2.imshow(\"dect\",image)\n",
    "cv2.imwrite(\"re_1.jpg\",image)\n",
    "cv2.waitKey()\n",
    "cv2.destroyAllWindows()"
   ]
  },
  {
   "cell_type": "code",
   "execution_count": 2,
   "metadata": {},
   "outputs": [
    {
     "name": "stdout",
     "output_type": "stream",
     "text": [
      "label 0\n",
      "confidence 31.66312392941947\n"
     ]
    }
   ],
   "source": [
    "#23.2 LBPH人脸识别\n",
    "#利用LBPH完成一个简单的人脸识别程序\n",
    "import cv2\n",
    "import numpy as np\n",
    "images=[]\n",
    "images.append(cv2.imread(\"X1.jpg\",0))\n",
    "images.append(cv2.imread(\"X2.jpg\",0))\n",
    "images.append(cv2.imread(\"W1.jpg\",0))\n",
    "images.append(cv2.imread(\"W2.jpg\",0))\n",
    "labels=[0,0,1,1]\n",
    "recognizer=cv2.face.LBPHFaceRecognizer_create()\n",
    "recognizer.train(images,np.array(labels))\n",
    "predict_image=cv2.imread(\"X3.jpg\",0)\n",
    "label,confidence=recognizer.predict(predict_image)\n",
    "print(\"label\",label)\n",
    "print(\"confidence\",confidence)"
   ]
  },
  {
   "cell_type": "code",
   "execution_count": 5,
   "metadata": {},
   "outputs": [
    {
     "name": "stdout",
     "output_type": "stream",
     "text": [
      "label 1\n",
      "confidence 25717.205371622666\n"
     ]
    }
   ],
   "source": [
    "#23.3 EigenFaces人脸识别\n",
    "#利用EigenFaces模块完成一个简单的人脸识别程序(图像大小必须相等)\n",
    "import cv2\n",
    "import numpy as np\n",
    "import cv2\n",
    "import numpy as np\n",
    "images=[]\n",
    "images.append(cv2.imread(\"Y1.jpg\",0))\n",
    "images.append(cv2.imread(\"Y2.jpg\",0))\n",
    "images.append(cv2.imread(\"Z1.jpg\",0))\n",
    "images.append(cv2.imread(\"Z2.jpg\",0))\n",
    "labels=[0,0,1,1]\n",
    "recognizer=cv2.face.EigenFaceRecognizer_create()\n",
    "recognizer.train(images,np.array(labels))\n",
    "predict_image=cv2.imread(\"Z3.jpg\",0)\n",
    "label,confidence=recognizer.predict(predict_image)\n",
    "print(\"label\",label)\n",
    "print(\"confidence\",confidence)"
   ]
  },
  {
   "cell_type": "code",
   "execution_count": 7,
   "metadata": {},
   "outputs": [
    {
     "name": "stdout",
     "output_type": "stream",
     "text": [
      "label 0\n",
      "confidence 21882.996563683926\n"
     ]
    }
   ],
   "source": [
    "#23.4 Fisherfaces人脸识别(图像大小必须相等)\n",
    "import cv2\n",
    "import numpy as np\n",
    "import cv2\n",
    "import numpy as np\n",
    "images=[]\n",
    "images.append(cv2.imread(\"Y1.jpg\",0))\n",
    "images.append(cv2.imread(\"Y3.jpg\",0))\n",
    "images.append(cv2.imread(\"Z1.jpg\",0))\n",
    "images.append(cv2.imread(\"Z2.jpg\",0))\n",
    "labels=[0,0,1,1]\n",
    "recognizer=cv2.face.FisherFaceRecognizer_create()\n",
    "recognizer.train(images,np.array(labels))\n",
    "predict_image=cv2.imread(\"Y2.jpg\",0)\n",
    "label,confidence=recognizer.predict(predict_image)\n",
    "print(\"label\",label)\n",
    "print(\"confidence\",confidence)"
   ]
  },
  {
   "cell_type": "code",
   "execution_count": null,
   "metadata": {},
   "outputs": [],
   "source": []
  }
 ],
 "metadata": {
  "kernelspec": {
   "display_name": "Python 3",
   "language": "python",
   "name": "python3"
  },
  "language_info": {
   "codemirror_mode": {
    "name": "ipython",
    "version": 3
   },
   "file_extension": ".py",
   "mimetype": "text/x-python",
   "name": "python",
   "nbconvert_exporter": "python",
   "pygments_lexer": "ipython3",
   "version": "3.7.3"
  }
 },
 "nbformat": 4,
 "nbformat_minor": 2
}
