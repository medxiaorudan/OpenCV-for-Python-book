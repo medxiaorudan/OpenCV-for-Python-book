{
 "cells": [
  {
   "cell_type": "code",
   "execution_count": 1,
   "metadata": {},
   "outputs": [],
   "source": [
    "#7.1 均值滤波\n",
    "import cv2\n",
    "o=cv2.imread(\"image1.png\",-1)\n",
    "r1=cv2.blur(o,(5,5))\n",
    "r2=cv2.blur(o,(10,10))\n",
    "cv2.imshow(\"original\",o)\n",
    "cv2.imshow(\"result1\",r1)\n",
    "cv2.imshow(\"result2\",r2)\n",
    "cv2.waitKey()\n",
    "cv2.destroyAllWindows()"
   ]
  },
  {
   "cell_type": "code",
   "execution_count": 2,
   "metadata": {},
   "outputs": [],
   "source": [
    "#7.2 方框滤波\n",
    "#cv2.boxFilter()\n",
    "import cv2\n",
    "o=cv2.imread(\"image1.png\",-1)\n",
    "r1=cv2.boxFilter(o,-1,(5,5))\n",
    "r2=cv2.boxFilter(o,-1,(10,10))\n",
    "r3=cv2.boxFilter(o,-1,(2,2),normalize=0)\n",
    "cv2.imshow(\"original\",o)\n",
    "cv2.imshow(\"result1\",r1)\n",
    "cv2.imshow(\"result2\",r2)\n",
    "cv2.imshow(\"result3\",r3)\n",
    "cv2.waitKey()\n",
    "cv2.destroyAllWindows()"
   ]
  },
  {
   "cell_type": "code",
   "execution_count": 3,
   "metadata": {},
   "outputs": [],
   "source": [
    "#7.3 高斯滤波\n",
    "#dst=cv2.GaussianBlur()\n",
    "import cv2\n",
    "o=cv2.imread(\"image1.png\",-1)\n",
    "r1=cv2.GaussianBlur(o,(5,5),0,0)\n",
    "r2=cv2.GaussianBlur(o,(7,7),0,0)\n",
    "cv2.imshow(\"original\",o)\n",
    "cv2.imshow(\"result1\",r1)\n",
    "cv2.imshow(\"result2\",r2)\n",
    "cv2.waitKey()\n",
    "cv2.destroyAllWindows()"
   ]
  },
  {
   "cell_type": "code",
   "execution_count": 4,
   "metadata": {},
   "outputs": [],
   "source": [
    "#7.4 中值滤波\n",
    "#dst=cv2.medianBlur()\n",
    "import cv2\n",
    "o=cv2.imread(\"image1.png\",-1)\n",
    "r1=cv2.medianBlur(o,3)\n",
    "r2=cv2.medianBlur(o,7)\n",
    "cv2.imshow(\"original\",o)\n",
    "cv2.imshow(\"result1\",r1)\n",
    "cv2.imshow(\"result2\",r2)\n",
    "cv2.waitKey()\n",
    "cv2.destroyAllWindows()"
   ]
  },
  {
   "cell_type": "code",
   "execution_count": 5,
   "metadata": {},
   "outputs": [],
   "source": [
    "#7.5 双边滤波\n",
    "#cv2.bilateralFilter()\n",
    "import cv2\n",
    "o=cv2.imread(\"lena.png\",-1)\n",
    "r1=cv2.bilateralFilter(o,50,150,150)\n",
    "cv2.imshow(\"original\",o)\n",
    "cv2.imshow(\"result1\",r1)\n",
    "cv2.waitKey()\n",
    "cv2.destroyAllWindows()"
   ]
  },
  {
   "cell_type": "code",
   "execution_count": 6,
   "metadata": {},
   "outputs": [],
   "source": [
    "#7.6 2D卷积\n",
    "#自定义卷积核 cv2.filter2D()\n",
    "import cv2\n",
    "import numpy as np\n",
    "o=cv2.imread(\"image1.png\",-1)\n",
    "kernel=np.ones((9,9),np.float32)/81\n",
    "r1=cv2.filter2D(o,-1,kernel)\n",
    "cv2.imshow(\"original\",o)\n",
    "cv2.imshow(\"result1\",r1)\n",
    "cv2.waitKey()\n",
    "cv2.destroyAllWindows()"
   ]
  },
  {
   "cell_type": "code",
   "execution_count": null,
   "metadata": {},
   "outputs": [],
   "source": []
  }
 ],
 "metadata": {
  "kernelspec": {
   "display_name": "Python 3",
   "language": "python",
   "name": "python3"
  },
  "language_info": {
   "codemirror_mode": {
    "name": "ipython",
    "version": 3
   },
   "file_extension": ".py",
   "mimetype": "text/x-python",
   "name": "python",
   "nbconvert_exporter": "python",
   "pygments_lexer": "ipython3",
   "version": "3.7.3"
  }
 },
 "nbformat": 4,
 "nbformat_minor": 2
}
