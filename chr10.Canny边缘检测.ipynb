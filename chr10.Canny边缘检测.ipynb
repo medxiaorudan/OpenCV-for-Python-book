{
 "cells": [
  {
   "cell_type": "code",
   "execution_count": 1,
   "metadata": {},
   "outputs": [],
   "source": [
    "import cv2\n",
    "o=cv2.imread(\"lena.png\",0)\n",
    "r1=cv2.Canny(o,128,200)\n",
    "r2=cv2.Canny(o,32,128)\n",
    "cv2.imshow(\"original\",o)\n",
    "cv2.imshow(\"result1\",r1)\n",
    "cv2.imshow(\"result2\",r2)\n",
    "cv2.waitKey()\n",
    "cv2.destroyAllWindows()"
   ]
  },
  {
   "cell_type": "code",
   "execution_count": null,
   "metadata": {},
   "outputs": [],
   "source": []
  }
 ],
 "metadata": {
  "kernelspec": {
   "display_name": "Python 3",
   "language": "python",
   "name": "python3"
  },
  "language_info": {
   "codemirror_mode": {
    "name": "ipython",
    "version": 3
   },
   "file_extension": ".py",
   "mimetype": "text/x-python",
   "name": "python",
   "nbconvert_exporter": "python",
   "pygments_lexer": "ipython3",
   "version": "3.7.3"
  }
 },
 "nbformat": 4,
 "nbformat_minor": 2
}
